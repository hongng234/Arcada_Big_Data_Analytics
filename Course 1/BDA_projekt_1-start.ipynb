{
 "cells": [
  {
   "cell_type": "markdown",
   "metadata": {},
   "source": [
    "# Project 1"
   ]
  },
  {
   "cell_type": "markdown",
   "metadata": {},
   "source": [
    "- load the dataset https://data.melbourne.vic.gov.au/api/views/ez6b-syvw/rows.csv into a Python Pandas dataframe\n",
    "- calculate the median and\n",
    "- standard deviation for each place of measurement.\n",
    "- visualize each time series for respective places in the same figure.\n",
    "- The x-axis should have the correct time index indicated in the figure."
   ]
  },
  {
   "cell_type": "markdown",
   "metadata": {},
   "source": [
    "If Python is totaly new for you take a short quided tour to the language: https://www.w3schools.com/python/python_intro.asp or more comprehensive one: https://wiki.python.org/moin/BeginnersGuide\n",
    "\n",
    "Afterwords you will always need to consult the documentation: https://docs.python.org/3.6/\n",
    "\n",
    "You will also find relevant things at https://docs.python.org/3.6/faq/programming.html\n",
    "\n",
    "Before you strart this exersise, read http://pandas.pydata.org/pandas-docs/stable/dsintro.html\n"
   ]
  },
  {
   "cell_type": "code",
   "execution_count": null,
   "metadata": {
    "collapsed": true
   },
   "outputs": [],
   "source": [
    "# activate pandas package\n",
    "import pandas as pd"
   ]
  },
  {
   "cell_type": "markdown",
   "metadata": {},
   "source": [
    "Read in the dowloaded CVS file into pandas DataFrame object with `read_cvs()`\n",
    "\n",
    "If you get `FileNotFoundError: File b'Sensor_readings.csv' does not exist` check that your file is in the same directory as the active `.ipynb file` or provide full file path."
   ]
  },
  {
   "cell_type": "code",
   "execution_count": null,
   "metadata": {
    "collapsed": true
   },
   "outputs": [],
   "source": [
    "data = pd.read_csv(\"Sensor_readings.csv\")"
   ]
  },
  {
   "cell_type": "markdown",
   "metadata": {},
   "source": [
    "`data` is now an instance of [class DataFrame](https://pandas.pydata.org/pandas-docs/stable/generated/pandas.DataFrame.html)\n",
    "\n",
    "`head()` is a method defined in the class"
   ]
  },
  {
   "cell_type": "code",
   "execution_count": null,
   "metadata": {
    "collapsed": true
   },
   "outputs": [],
   "source": [
    "data.head(9)"
   ]
  },
  {
   "cell_type": "markdown",
   "metadata": {},
   "source": [
    "`shape` is an attribute of class DataFrame, note absence of `()`"
   ]
  },
  {
   "cell_type": "code",
   "execution_count": null,
   "metadata": {
    "collapsed": true
   },
   "outputs": [],
   "source": [
    "data.shape"
   ]
  },
  {
   "cell_type": "code",
   "execution_count": null,
   "metadata": {
    "collapsed": true
   },
   "outputs": [],
   "source": [
    "data.info(verbose=True, memory_usage='deep')"
   ]
  },
  {
   "cell_type": "code",
   "execution_count": null,
   "metadata": {
    "collapsed": true
   },
   "outputs": [],
   "source": [
    "# some columns are totaly useless, you may whant to drop them.\n",
    "data.drop(columns=['mac', 'boardtype', 'Position', 'model', 'rowid'], inplace=True)\n",
    "data.head()"
   ]
  },
  {
   "cell_type": "markdown",
   "metadata": {},
   "source": [
    "Hmm, looks like some columns hold same values. Check if there are any rows where `temp_max`, `temp_min` and `temp_avg` are different. If there are none - drop `temp_max` and `temp_min`."
   ]
  },
  {
   "cell_type": "markdown",
   "metadata": {},
   "source": [
    "Check the amount of rows in the dataframe"
   ]
  },
  {
   "cell_type": "code",
   "execution_count": null,
   "metadata": {
    "collapsed": true
   },
   "outputs": [],
   "source": [
    "len(data)"
   ]
  },
  {
   "cell_type": "markdown",
   "metadata": {},
   "source": [
    "Compare the number to the amount of rows `len(data)` in the filtered dataframe, \n",
    "where values of `temp_min` and `temp_max` are the same in the same row. \n",
    "Note: you may sometimes use different syntax for column selection in pandas.\n",
    "\n",
    "https://pandas.pydata.org/pandas-docs/stable/indexing.html#attribute-access\n",
    "\n",
    "Attribute-access is nice, because it allows tab-completion \n",
    "\n",
    "https://ipython.readthedocs.io/en/stable/interactive/reference.html?highlight=completion#command-line-completion"
   ]
  },
  {
   "cell_type": "code",
   "execution_count": null,
   "metadata": {
    "collapsed": true
   },
   "outputs": [],
   "source": [
    "len(data[data.temp_max == data['temp_min']])"
   ]
  },
  {
   "cell_type": "code",
   "execution_count": null,
   "metadata": {
    "collapsed": true
   },
   "outputs": [],
   "source": [
    "len(data.query('temp_max == temp_avg'))"
   ]
  },
  {
   "cell_type": "markdown",
   "metadata": {},
   "source": [
    "Then you are interested in how many different locations the data holds. The [`unique()` method](https://pandas.pydata.org/pandas-docs/stable/generated/pandas.Series.unique.html) from `Series` class will be helpful."
   ]
  },
  {
   "cell_type": "code",
   "execution_count": null,
   "metadata": {
    "collapsed": true
   },
   "outputs": [],
   "source": [
    "data.location.unique()"
   ]
  },
  {
   "cell_type": "markdown",
   "metadata": {},
   "source": [
    "Can you see how many rows are from Fitzroy Gardens?"
   ]
  },
  {
   "cell_type": "code",
   "execution_count": null,
   "metadata": {
    "collapsed": true
   },
   "outputs": [],
   "source": [
    "len(data[data.location == 'XXX'])"
   ]
  },
  {
   "cell_type": "markdown",
   "metadata": {},
   "source": [
    "Try to print out the folowing information automaticaly with 5-6 lines of code ([for-loop](https://www.w3schools.com/python/python_for_loops.asp)):"
   ]
  },
  {
   "cell_type": "code",
   "execution_count": null,
   "metadata": {
    "collapsed": true
   },
   "outputs": [],
   "source": [
    "for location in data.location.unique():\n",
    "    print(location)\n",
    "    # your code here"
   ]
  },
  {
   "cell_type": "markdown",
   "metadata": {},
   "source": [
    "`Fitzroy Gardens\n",
    "\tboard 501 - rows 2903\n",
    "\tboard 502 - rows 2725\n",
    "\tboard 505 - rows 2915\n",
    "\tboard 507 - rows 2918\n",
    "\tboard 508 - rows 2728\n",
    "Docklands Library\n",
    "\tboard 506 - rows 6626\n",
    "\tboard 509 - rows 19119\n",
    "\tboard 510 - rows 12038\n",
    "\tboard 511 - rows 4598`"
   ]
  },
  {
   "cell_type": "markdown",
   "metadata": {},
   "source": [
    "## Median (aka expected value)"
   ]
  },
  {
   "cell_type": "markdown",
   "metadata": {},
   "source": [
    "You'd like to have a function that takes an unsorted pandas.Series object (or a list) and returns a median for it.\n",
    "\n",
    "Sort the serie: https://pandas.pydata.org/pandas-docs/stable/generated/pandas.Series.sort_values.html (or your list).\n",
    "\n",
    "There are two opotions: odd and even number of elements.\n",
    "\n",
    "If the number is odd, return an element with the index 'length of serie floor divided by 2'\n",
    "\n",
    "If the number is even, return a half sum of two middle elements.\n",
    "\n",
    "You can use `.iloc[]` to access the position of a row if pandas.Series object. Remember that the position is zero-based. https://stackoverflow.com/a/31593712"
   ]
  },
  {
   "cell_type": "code",
   "execution_count": null,
   "metadata": {
    "collapsed": true
   },
   "outputs": [],
   "source": [
    "def median (serie):\n",
    "    # your code here\n",
    "    return"
   ]
  },
  {
   "cell_type": "markdown",
   "metadata": {},
   "source": [
    "You can use this `median` function to produce the median-answer.\n",
    "\n",
    "Make use of https://www.w3schools.com/python/ref_string_replace.asp"
   ]
  },
  {
   "cell_type": "markdown",
   "metadata": {},
   "source": [
    "`Medians for locations:\n",
    "\n",
    " Fitzroy Gardens\n",
    "\t temp     \t 19.0\n",
    "\t light    \t 83.9\n",
    "\t humidity \t 47.7\n",
    "\n",
    "\tboard 501 - elevation 29.96\n",
    "\t\t temp     \t 19.0\n",
    "\t\t light    \t 88.2\n",
    "\t\t humidity \t 47.3\n",
    "\n",
    "\tboard 502 - elevation 22.57\n",
    "\t\t temp     \t 18.1\n",
    "\t\t light    \t 84.6\n",
    "\t\t humidity \t 49.9\n",
    "\n",
    "\tboard 505 - elevation 29.91\n",
    "\t\t temp     \t 20.0\n",
    "\t\t light    \t 78.3\n",
    "\t\t humidity \t 51.0\n",
    "\n",
    "\tboard 507 - elevation 38.79\n",
    "\t\t temp     \t 19.0\n",
    "\t\t light    \t 86.8\n",
    "\t\t humidity \t 48.3\n",
    "\n",
    "\tboard 508 - elevation 30.1\n",
    "\t\t temp     \t 19.0\n",
    "\t\t light    \t 83.25\n",
    "\t\t humidity \t 43.3\n",
    "\n",
    " Docklands Library\n",
    "\t temp     \t 17.4\n",
    "\t light    \t 13.1\n",
    "\t humidity \t 51.9\n",
    "\n",
    "\tboard 506 - elevation 0.71\n",
    "\t\t temp     \t 16.5\n",
    "\t\t light    \t 8.5\n",
    "\t\t humidity \t 48.6\n",
    "\n",
    "\tboard 509 - elevation 0.03\n",
    "\t\t temp     \t 17.4\n",
    "\t\t light    \t 29.1\n",
    "\t\t humidity \t 56.2\n",
    "\n",
    "\tboard 510 - elevation 2.74\n",
    "\t\t temp     \t 17.1\n",
    "\t\t light    \t 73.75\n",
    "\t\t humidity \t 49.2\n",
    "\n",
    "\tboard 511 - elevation 3.75\n",
    "\t\t temp     \t 18.7\n",
    "\t\t light    \t 13.55\n",
    "\t\t humidity \t 50.2`"
   ]
  },
  {
   "cell_type": "markdown",
   "metadata": {},
   "source": [
    "## Standard deviation"
   ]
  },
  {
   "cell_type": "markdown",
   "metadata": {},
   "source": [
    "Write a function that takes pandas.Series object and returns standard deviation.\n",
    "\n",
    "First calculate `mean = serie.sum() / serie.count()`\n",
    "\n",
    "Then make a Series object which contains `squares_off_difference` between every measured value and the `mean`.\n",
    "\n",
    "Then return sqrt of ratio of `squares_off_difference.sum()` to number of elements in `serie` minus 1."
   ]
  },
  {
   "cell_type": "code",
   "execution_count": null,
   "metadata": {
    "collapsed": true
   },
   "outputs": [],
   "source": [
    "def st_dev (serie):\n",
    "    # your code here\n",
    "    return"
   ]
  },
  {
   "cell_type": "markdown",
   "metadata": {},
   "source": [
    "You can reuse your solution for median printout, now with `st_dev` function"
   ]
  },
  {
   "cell_type": "code",
   "execution_count": null,
   "metadata": {
    "collapsed": true
   },
   "outputs": [],
   "source": [
    "columns = ['temp_avg', 'light_avg', 'humidity_avg']\n",
    "print ('St. dev. for locations:')\n",
    "for location in data.location.unique():\n",
    "    print('\\n', location)\n",
    "    # your code here\n"
   ]
  },
  {
   "cell_type": "markdown",
   "metadata": {},
   "source": [
    "## Visualisation"
   ]
  },
  {
   "cell_type": "code",
   "execution_count": null,
   "metadata": {
    "collapsed": true
   },
   "outputs": [],
   "source": [
    "import matplotlib.pyplot as plt"
   ]
  },
  {
   "cell_type": "markdown",
   "metadata": {},
   "source": [
    "Have a look at https://pandas.pydata.org/pandas-docs/stable/timeseries.html\n",
    "\n",
    "Have you noticed that column `timestamp` in our data is a string? We have to convert it to pandas.Timestamp to be able to plot measurements correctly.\n",
    "\n",
    "https://pandas.pydata.org/pandas-docs/stable/generated/pandas.to_datetime.html"
   ]
  },
  {
   "cell_type": "code",
   "execution_count": null,
   "metadata": {
    "collapsed": true
   },
   "outputs": [],
   "source": [
    "%time data['ts'] = pd.to_datetime(data.timestamp)\n",
    "data.ts.describe()"
   ]
  },
  {
   "cell_type": "markdown",
   "metadata": {},
   "source": [
    "If it takes too long time to convert, try to help pandas and define time format you are reading:\n",
    "\n",
    "https://docs.python.org/3/library/datetime.html#strftime-and-strptime-behavior"
   ]
  },
  {
   "cell_type": "markdown",
   "metadata": {},
   "source": [
    "Be advised that you may want to `data.set_index('ts')` and use non unique index but there will be a performance penalty: https://stackoverflow.com/a/16629125"
   ]
  },
  {
   "cell_type": "markdown",
   "metadata": {},
   "source": [
    "Now you can easily plot all measurements from some location and from some period of time.\n",
    "\n",
    "For example: average temperature at *Fitzroy Gardens* only from 2014."
   ]
  },
  {
   "cell_type": "code",
   "execution_count": 24,
   "metadata": {
    "collapsed": false,
    "scrolled": true
   },
   "outputs": [
    {
     "data": {
      "image/png": "[encoded data removed]",
      "text/plain": [
       "<Figure size 1296x360 with 1 Axes>"
      ]
     },
     "metadata": {},
     "output_type": "display_data"
    }
   ],
   "source": [
    "# model\n",
    "plt.figure(figsize=(18,5))\n",
    "location_filter = data.location == 'Fitzroy Gardens'\n",
    "time_filter = data.ts < pd.Timestamp('2015-01-01')\n",
    "data_filtered = data[location_filter & time_filter]\n",
    "boards = data_filtered.boardid.unique()\n",
    "plt.plot(data_filtered.ts, data_filtered.temp_avg, ',', c='g', alpha=.9)\n",
    "plt.show()"
   ]
  },
  {
   "cell_type": "markdown",
   "metadata": {},
   "source": [
    "Can you color separate different boards?\n",
    "\n",
    "Can your plot the median?"
   ]
  },
  {
   "cell_type": "code",
   "execution_count": null,
   "metadata": {
    "collapsed": true
   },
   "outputs": [],
   "source": []
  }
 ],
 "metadata": {
  "anaconda-cloud": {},
  "kernelspec": {
   "display_name": "Python [default]",
   "language": "python",
   "name": "python3"
  },
  "language_info": {
   "codemirror_mode": {
    "name": "ipython",
    "version": 3
   },
   "file_extension": ".py",
   "mimetype": "text/x-python",
   "name": "python",
   "nbconvert_exporter": "python",
   "pygments_lexer": "ipython3",
   "version": "3.5.2"
  }
 },
 "nbformat": 4,
 "nbformat_minor": 2
}
